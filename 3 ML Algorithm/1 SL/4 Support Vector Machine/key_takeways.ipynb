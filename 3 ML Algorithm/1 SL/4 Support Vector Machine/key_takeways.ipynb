{
 "cells": [
  {
   "cell_type": "markdown",
   "id": "a16f6a9b",
   "metadata": {},
   "source": [
    "                         Some of the Key Takeaways from this article are:\n",
    "\n",
    "->Support Vector Machines are one of the best-performing machine learning algorithms \n",
    "  which use its support vector to classify the data and its classes.\n",
    "\n",
    "->Complex margin support vectors do not allow data points to cross their respective vectors, \n",
    "  whereas, in soft margin SVM, there are no complicated rules, and some of the data points travel the margin.\n",
    "\n",
    "->A support vector machine is a nonparametric model that takes more time for training, \n",
    "  but the algorithm’s learning is not limited.\n",
    "\n",
    "->In the case of nonlinear data, the kernel function can be used in SVM to solve the data patterns.\n",
    "\n",
    "->Non-parametric ≠ \"no parameters.\" It means the number of parameters grows with data size/complexity.\n",
    "\n",
    "\n",
    "                                SVMs are non-parametric because:\n",
    "\n",
    "The model’s \"parameters\" (support vectors) depend on the training data.\n",
    "\n",
    "The kernel does not fix the model’s capacity (e.g., RBF can model infinitely complex boundaries as data grows).\n",
    "\n",
    "SVMs are non-parametric because their model complexity (number of support vectors) scales with the data, and they make no prior assumptions about data distribution"
   ]
  },
  {
   "cell_type": "markdown",
   "id": "2858b2e1",
   "metadata": {},
   "source": [
    "                        What Defines a Parametric vs. Non-Parametric Model?\n",
    "##### Parametric Models:\n",
    "\n",
    "Assume a fixed number of parameters determined before training.\n",
    "\n",
    "Parameters are independent of the training data size (e.g., linear regression coefficients, logistic regression weights).\n",
    "\n",
    "Example: Once trained, a linear regression model uses the same number of parameters regardless of how much data it was trained on.\n",
    "\n",
    "##### Non-Parametric Models:\n",
    "\n",
    "Number of parameters grows with the training data size (or complexity).\n",
    "\n",
    "Flexibility increases with more data (e.g., k-NN, decision trees, kernel-based methods)."
   ]
  },
  {
   "cell_type": "markdown",
   "id": "a05f1779",
   "metadata": {},
   "source": [
    "                   Why is Feature Scaling Important for SVM?\n",
    "SVM works by computing distances between data points to find the optimal hyperplane. If your features are not on the same scale:\n",
    "\n",
    "Features with larger ranges dominate the distance metric.\n",
    "\n",
    "This causes the model to give more importance to certain features.\n",
    "\n",
    "Leads to a distorted margin and poor classification performance."
   ]
  },
  {
   "cell_type": "markdown",
   "id": "69a94b10",
   "metadata": {},
   "source": []
  }
 ],
 "metadata": {
  "language_info": {
   "name": "python"
  }
 },
 "nbformat": 4,
 "nbformat_minor": 5
}
